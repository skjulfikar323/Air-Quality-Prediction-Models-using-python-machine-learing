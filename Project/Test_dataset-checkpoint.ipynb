{
 "cells": [
  {
   "cell_type": "code",
   "execution_count": 27,
   "metadata": {},
   "outputs": [
    {
     "data": {
      "text/html": [
       "<div>\n",
       "<style scoped>\n",
       "    .dataframe tbody tr th:only-of-type {\n",
       "        vertical-align: middle;\n",
       "    }\n",
       "\n",
       "    .dataframe tbody tr th {\n",
       "        vertical-align: top;\n",
       "    }\n",
       "\n",
       "    .dataframe thead th {\n",
       "        text-align: right;\n",
       "    }\n",
       "</style>\n",
       "<table border=\"1\" class=\"dataframe\">\n",
       "  <thead>\n",
       "    <tr style=\"text-align: right;\">\n",
       "      <th></th>\n",
       "      <th>From Date\\tTo Date\\tPM2.5\\tPM10\\tNO2\\tBenzene\\tSO2\\tCO\\tOzone\\tNOx</th>\n",
       "    </tr>\n",
       "  </thead>\n",
       "  <tbody>\n",
       "    <tr>\n",
       "      <td>0</td>\n",
       "      <td>01-01-2019 00:00\\t01-01-2019 01:00\\t394.25\\t55...</td>\n",
       "    </tr>\n",
       "    <tr>\n",
       "      <td>1</td>\n",
       "      <td>01-01-2019 01:00\\t01-01-2019 02:00\\t378.42\\t54...</td>\n",
       "    </tr>\n",
       "    <tr>\n",
       "      <td>2</td>\n",
       "      <td>01-01-2019 02:00\\t01-01-2019 03:00\\t327.53\\t48...</td>\n",
       "    </tr>\n",
       "    <tr>\n",
       "      <td>3</td>\n",
       "      <td>01-01-2019 03:00\\t01-01-2019 04:00\\t269.73\\t38...</td>\n",
       "    </tr>\n",
       "    <tr>\n",
       "      <td>4</td>\n",
       "      <td>01-01-2019 04:00\\t01-01-2019 05:00\\t261.55\\t35...</td>\n",
       "    </tr>\n",
       "    <tr>\n",
       "      <td>5</td>\n",
       "      <td>01-01-2019 05:00\\t01-01-2019 06:00\\t260.3\\t358...</td>\n",
       "    </tr>\n",
       "    <tr>\n",
       "      <td>6</td>\n",
       "      <td>01-01-2019 06:00\\t01-01-2019 07:00\\t256.65\\t35...</td>\n",
       "    </tr>\n",
       "    <tr>\n",
       "      <td>7</td>\n",
       "      <td>01-01-2019 07:00\\t01-01-2019 08:00\\t249.1\\t349...</td>\n",
       "    </tr>\n",
       "    <tr>\n",
       "      <td>8</td>\n",
       "      <td>01-01-2019 08:00\\t01-01-2019 09:00\\t254.27\\t35...</td>\n",
       "    </tr>\n",
       "    <tr>\n",
       "      <td>9</td>\n",
       "      <td>01-01-2019 09:00\\t01-01-2019 10:00\\t251.8\\t356...</td>\n",
       "    </tr>\n",
       "    <tr>\n",
       "      <td>10</td>\n",
       "      <td>01-01-2019 10:00\\t01-01-2019 11:00\\t244.42\\t36...</td>\n",
       "    </tr>\n",
       "    <tr>\n",
       "      <td>11</td>\n",
       "      <td>01-01-2019 11:00\\t01-01-2019 12:00\\t236.82\\t34...</td>\n",
       "    </tr>\n",
       "    <tr>\n",
       "      <td>12</td>\n",
       "      <td>01-01-2019 12:00\\t01-01-2019 13:00\\t231.65\\t33...</td>\n",
       "    </tr>\n",
       "    <tr>\n",
       "      <td>13</td>\n",
       "      <td>01-01-2019 13:00\\t01-01-2019 14:00\\t204.25\\t30...</td>\n",
       "    </tr>\n",
       "    <tr>\n",
       "      <td>14</td>\n",
       "      <td>01-01-2019 14:00\\t01-01-2019 15:00\\t167.25\\t26...</td>\n",
       "    </tr>\n",
       "  </tbody>\n",
       "</table>\n",
       "</div>"
      ],
      "text/plain": [
       "   From Date\\tTo Date\\tPM2.5\\tPM10\\tNO2\\tBenzene\\tSO2\\tCO\\tOzone\\tNOx\n",
       "0   01-01-2019 00:00\\t01-01-2019 01:00\\t394.25\\t55...                \n",
       "1   01-01-2019 01:00\\t01-01-2019 02:00\\t378.42\\t54...                \n",
       "2   01-01-2019 02:00\\t01-01-2019 03:00\\t327.53\\t48...                \n",
       "3   01-01-2019 03:00\\t01-01-2019 04:00\\t269.73\\t38...                \n",
       "4   01-01-2019 04:00\\t01-01-2019 05:00\\t261.55\\t35...                \n",
       "5   01-01-2019 05:00\\t01-01-2019 06:00\\t260.3\\t358...                \n",
       "6   01-01-2019 06:00\\t01-01-2019 07:00\\t256.65\\t35...                \n",
       "7   01-01-2019 07:00\\t01-01-2019 08:00\\t249.1\\t349...                \n",
       "8   01-01-2019 08:00\\t01-01-2019 09:00\\t254.27\\t35...                \n",
       "9   01-01-2019 09:00\\t01-01-2019 10:00\\t251.8\\t356...                \n",
       "10  01-01-2019 10:00\\t01-01-2019 11:00\\t244.42\\t36...                \n",
       "11  01-01-2019 11:00\\t01-01-2019 12:00\\t236.82\\t34...                \n",
       "12  01-01-2019 12:00\\t01-01-2019 13:00\\t231.65\\t33...                \n",
       "13  01-01-2019 13:00\\t01-01-2019 14:00\\t204.25\\t30...                \n",
       "14  01-01-2019 14:00\\t01-01-2019 15:00\\t167.25\\t26...                "
      ]
     },
     "execution_count": 27,
     "metadata": {},
     "output_type": "execute_result"
    }
   ],
   "source": [
    "import numpy as np\n",
    "import pandas as pd\n",
    "import matplotlib.pyplot as plt\n",
    "\n",
    "data=pd.read_csv(\"Rabindra bharati University.csv\")\n",
    "data.head(15)\n"
   ]
  },
  {
   "cell_type": "code",
   "execution_count": 12,
   "metadata": {},
   "outputs": [
    {
     "name": "stdout",
     "output_type": "stream",
     "text": [
      "<class 'pandas.core.frame.DataFrame'>\n",
      "RangeIndex: 8460 entries, 0 to 8459\n",
      "Data columns (total 1 columns):\n",
      "From Date\tTo Date\tPM2.5\tPM10\tNO2\tBenzene\tSO2\tCO\tOzone\tNOx    8460 non-null object\n",
      "dtypes: object(1)\n",
      "memory usage: 33.1+ KB\n"
     ]
    }
   ],
   "source": [
    "data.info()"
   ]
  },
  {
   "cell_type": "code",
   "execution_count": null,
   "metadata": {},
   "outputs": [],
   "source": []
  }
 ],
 "metadata": {
  "kernelspec": {
   "display_name": "Python 3",
   "language": "python",
   "name": "python3"
  },
  "language_info": {
   "codemirror_mode": {
    "name": "ipython",
    "version": 3
   },
   "file_extension": ".py",
   "mimetype": "text/x-python",
   "name": "python",
   "nbconvert_exporter": "python",
   "pygments_lexer": "ipython3",
   "version": "3.7.4"
  }
 },
 "nbformat": 4,
 "nbformat_minor": 2
}
